{
  "nbformat": 4,
  "nbformat_minor": 0,
  "metadata": {
    "colab": {
      "name": "fastai_trec.ipynb",
      "provenance": [],
      "collapsed_sections": [],
      "include_colab_link": true
    },
    "kernelspec": {
      "name": "python3",
      "display_name": "Python 3"
    },
    "accelerator": "GPU"
  },
  "cells": [
    {
      "cell_type": "markdown",
      "metadata": {
        "id": "view-in-github",
        "colab_type": "text"
      },
      "source": [
        "<a href=\"https://colab.research.google.com/github/liangsheng02/Butterfly-Voice-Changing-Bowtie/blob/master/fastai_trec.ipynb\" target=\"_parent\"><img src=\"https://colab.research.google.com/assets/colab-badge.svg\" alt=\"Open In Colab\"/></a>"
      ]
    },
    {
      "cell_type": "code",
      "metadata": {
        "id": "4adCe8byhWxo",
        "colab_type": "code",
        "outputId": "74c61f23-bc1e-4c6e-a229-51b625b43732",
        "colab": {
          "base_uri": "https://localhost:8080/",
          "height": 55
        }
      },
      "source": [
        "from google.colab import drive\n",
        "drive.mount('/content/drive')"
      ],
      "execution_count": 1,
      "outputs": [
        {
          "output_type": "stream",
          "text": [
            "Drive already mounted at /content/drive; to attempt to forcibly remount, call drive.mount(\"/content/drive\", force_remount=True).\n"
          ],
          "name": "stdout"
        }
      ]
    },
    {
      "cell_type": "code",
      "metadata": {
        "id": "HMwK77yOHypg",
        "colab_type": "code",
        "colab": {}
      },
      "source": [
        "from torchtext import *\n",
        "import pandas as pd\n",
        "import torch\n",
        "import fastai\n",
        "from fastai.text import *\n",
        "from fastai.callbacks import *\n",
        "import random\n",
        "import numpy as np"
      ],
      "execution_count": 0,
      "outputs": []
    },
    {
      "cell_type": "code",
      "metadata": {
        "id": "jqEK1WJnHpoJ",
        "colab_type": "code",
        "colab": {}
      },
      "source": [
        "def random_seed(seed_value, use_cuda):\n",
        "  np.random.seed(seed_value) # cpu vars\n",
        "  torch.manual_seed(seed_value) # cpu  vars\n",
        "  random.seed(seed_value) # Python\n",
        "  if use_cuda:\n",
        "    torch.cuda.manual_seed(seed_value)\n",
        "    torch.cuda.manual_seed_all(seed_value) # gpu vars\n",
        "    torch.backends.cudnn.deterministic = True  #needed\n",
        "    torch.backends.cudnn.benchmark = False\n",
        "random_seed(180127818, True)"
      ],
      "execution_count": 0,
      "outputs": []
    },
    {
      "cell_type": "code",
      "metadata": {
        "id": "p7spb5BS5IDu",
        "colab_type": "code",
        "colab": {}
      },
      "source": [
        "#TREC dataset\n",
        "# set up fields\n",
        "TEXT = data.Field(lower=True, include_lengths=True, batch_first=True)\n",
        "LABEL = data.Field(sequential=False)\n",
        "# make splits for data\n",
        "train, val = datasets.TREC.splits(TEXT, LABEL)\n",
        "label_set = list(set([i.label for i in val.examples]))\n",
        "label_dict = {label_set[i]:i for i in range(len(label_set))}\n",
        "def dataset2df(dataset, label_dict):\n",
        "  df = pd.DataFrame(columns=('label','text'))\n",
        "  for i in range(len(dataset.examples)):\n",
        "    df = df.append(pd.DataFrame({'label':[label_dict[dataset.examples[i].label]],'text':[\" \".join(dataset.examples[i].text)]}),ignore_index=True)\n",
        "  return df\n",
        "train = dataset2df(train, label_dict)\n",
        "val = dataset2df(val, label_dict)"
      ],
      "execution_count": 0,
      "outputs": []
    },
    {
      "cell_type": "code",
      "metadata": {
        "id": "fOe7g7czHUUQ",
        "colab_type": "code",
        "colab": {}
      },
      "source": [
        "path = '/content/drive/My Drive/trec/'\n",
        "#epoch number, follow https://github.com/fastai/fastai/blob/master/examples/ULMFit.ipynb\n",
        "lm_epoch = 10\n",
        "cls_epoch = 2"
      ],
      "execution_count": 0,
      "outputs": []
    },
    {
      "cell_type": "code",
      "metadata": {
        "id": "9-YeY3XnFEIu",
        "colab_type": "code",
        "colab": {}
      },
      "source": [
        "# CREATE data\n",
        "# Language model data bunch\n",
        "data_lm = TextLMDataBunch.from_df('.', train, val, text_cols='text', label_cols='label')\n",
        "data_lm.save(path+'data_lm.pkl')\n",
        "# Classifier model data\n",
        "data_clas  = TextClasDataBunch.from_df('.', train_df=train,text_cols='text',label_cols='label',valid_df=val,vocab=data_lm.train_ds.vocab)\n",
        "data_clas.save(path+'data_clas.pkl')\n",
        "# Classifier model data bwd\n",
        "data_clas_bwd  = TextClasDataBunch.from_df('.', train_df=train,text_cols='text',label_cols='label',valid_df=val,vocab=data_lm.train_ds.vocab, backwards=True)\n",
        "data_clas_bwd.save(path+'data_clas_bwd.pkl')"
      ],
      "execution_count": 0,
      "outputs": []
    },
    {
      "cell_type": "code",
      "metadata": {
        "id": "cBeNFjsGEHp5",
        "colab_type": "code",
        "colab": {}
      },
      "source": [
        "# LOAD data\n",
        "#forward\n",
        "data_lm = load_data(path, 'data_lm.pkl', bs=128, bptt=70)\n",
        "data_clas = load_data(path, 'data_clas.pkl', bs=64)\n",
        "#bwd\n",
        "data_bwd = load_data(path, 'data_lm.pkl', bs=128, bptt=70, backwards=True)\n",
        "data_clas_bwd = load_data(path, 'data_clas_bwd.pkl', bs=64)"
      ],
      "execution_count": 0,
      "outputs": []
    },
    {
      "cell_type": "code",
      "metadata": {
        "id": "OVrbqIB80C4f",
        "colab_type": "code",
        "outputId": "7c38caca-f1c8-4459-a75e-b48e64f3e205",
        "colab": {
          "base_uri": "https://localhost:8080/",
          "height": 696
        }
      },
      "source": [
        "#FWD\n",
        "learn = language_model_learner(data_lm, AWD_LSTM,pretrained=True)\n",
        "learn = learn.to_fp16(clip=0.1)\n",
        "#The Learner object we get is frozen by default, which means we only train the embeddings at first (since some of them are random).\n",
        "learn.fit_one_cycle(1, 1e-2, moms=(0.8,0.7), wd=0.1)\n",
        "#unfreeze\n",
        "learn.unfreeze()\n",
        "#LM fine-tuning\n",
        "learn.fit_one_cycle(lm_epoch, 1e-3, moms=(0.8,0.7), wd=0.1)\n",
        "learn.save_encoder(path+'fwd_enc')\n",
        "# Classifier Fine-tuning by gradual unfreezing \n",
        "learn = text_classifier_learner(data_clas, AWD_LSTM, drop_mult=0.5, pretrained=False)\n",
        "learn.load_encoder(path+'fwd_enc')\n",
        "lr = 0.01\n",
        "learn.fit_one_cycle(1, lr, moms=(0.8,0.7), wd=0.1)\n",
        "learn.freeze_to(-2)\n",
        "lr /= 2\n",
        "learn.fit_one_cycle(1, slice(lr/(2.6**4),lr), moms=(0.8,0.7), wd=0.1)\n",
        "learn.freeze_to(-3)\n",
        "lr /= 2\n",
        "learn.fit_one_cycle(1, slice(lr/(2.6**4),lr), moms=(0.8,0.7), wd=0.1)\n",
        "# all\n",
        "learn.unfreeze()\n",
        "lr /= 5\n",
        "learn.fit_one_cycle(cls_epoch, slice(lr/(2.6**4),lr), moms=(0.8,0.7), wd=0.1)"
      ],
      "execution_count": 8,
      "outputs": [
        {
          "output_type": "display_data",
          "data": {
            "text/html": [
              "<table border=\"1\" class=\"dataframe\">\n",
              "  <thead>\n",
              "    <tr style=\"text-align: left;\">\n",
              "      <th>epoch</th>\n",
              "      <th>train_loss</th>\n",
              "      <th>valid_loss</th>\n",
              "      <th>accuracy</th>\n",
              "      <th>time</th>\n",
              "    </tr>\n",
              "  </thead>\n",
              "  <tbody>\n",
              "    <tr>\n",
              "      <td>0</td>\n",
              "      <td>5.863532</td>\n",
              "      <td>4.161353</td>\n",
              "      <td>0.272321</td>\n",
              "      <td>00:05</td>\n",
              "    </tr>\n",
              "  </tbody>\n",
              "</table>"
            ],
            "text/plain": [
              "<IPython.core.display.HTML object>"
            ]
          },
          "metadata": {
            "tags": []
          }
        },
        {
          "output_type": "display_data",
          "data": {
            "text/html": [
              "<table border=\"1\" class=\"dataframe\">\n",
              "  <thead>\n",
              "    <tr style=\"text-align: left;\">\n",
              "      <th>epoch</th>\n",
              "      <th>train_loss</th>\n",
              "      <th>valid_loss</th>\n",
              "      <th>accuracy</th>\n",
              "      <th>time</th>\n",
              "    </tr>\n",
              "  </thead>\n",
              "  <tbody>\n",
              "    <tr>\n",
              "      <td>0</td>\n",
              "      <td>5.090587</td>\n",
              "      <td>3.132791</td>\n",
              "      <td>0.478013</td>\n",
              "      <td>00:07</td>\n",
              "    </tr>\n",
              "    <tr>\n",
              "      <td>1</td>\n",
              "      <td>4.593792</td>\n",
              "      <td>2.828482</td>\n",
              "      <td>0.497768</td>\n",
              "      <td>00:07</td>\n",
              "    </tr>\n",
              "    <tr>\n",
              "      <td>2</td>\n",
              "      <td>4.312400</td>\n",
              "      <td>2.598358</td>\n",
              "      <td>0.533482</td>\n",
              "      <td>00:07</td>\n",
              "    </tr>\n",
              "    <tr>\n",
              "      <td>3</td>\n",
              "      <td>4.061215</td>\n",
              "      <td>2.472150</td>\n",
              "      <td>0.545089</td>\n",
              "      <td>00:07</td>\n",
              "    </tr>\n",
              "    <tr>\n",
              "      <td>4</td>\n",
              "      <td>3.883097</td>\n",
              "      <td>2.412254</td>\n",
              "      <td>0.562165</td>\n",
              "      <td>00:07</td>\n",
              "    </tr>\n",
              "    <tr>\n",
              "      <td>5</td>\n",
              "      <td>3.715351</td>\n",
              "      <td>2.349417</td>\n",
              "      <td>0.557589</td>\n",
              "      <td>00:07</td>\n",
              "    </tr>\n",
              "    <tr>\n",
              "      <td>6</td>\n",
              "      <td>3.571049</td>\n",
              "      <td>2.316364</td>\n",
              "      <td>0.562835</td>\n",
              "      <td>00:07</td>\n",
              "    </tr>\n",
              "    <tr>\n",
              "      <td>7</td>\n",
              "      <td>3.450858</td>\n",
              "      <td>2.305882</td>\n",
              "      <td>0.568862</td>\n",
              "      <td>00:07</td>\n",
              "    </tr>\n",
              "    <tr>\n",
              "      <td>8</td>\n",
              "      <td>3.363286</td>\n",
              "      <td>2.310164</td>\n",
              "      <td>0.563504</td>\n",
              "      <td>00:07</td>\n",
              "    </tr>\n",
              "    <tr>\n",
              "      <td>9</td>\n",
              "      <td>3.296240</td>\n",
              "      <td>2.306876</td>\n",
              "      <td>0.566964</td>\n",
              "      <td>00:07</td>\n",
              "    </tr>\n",
              "  </tbody>\n",
              "</table>"
            ],
            "text/plain": [
              "<IPython.core.display.HTML object>"
            ]
          },
          "metadata": {
            "tags": []
          }
        },
        {
          "output_type": "display_data",
          "data": {
            "text/html": [
              "<table border=\"1\" class=\"dataframe\">\n",
              "  <thead>\n",
              "    <tr style=\"text-align: left;\">\n",
              "      <th>epoch</th>\n",
              "      <th>train_loss</th>\n",
              "      <th>valid_loss</th>\n",
              "      <th>accuracy</th>\n",
              "      <th>time</th>\n",
              "    </tr>\n",
              "  </thead>\n",
              "  <tbody>\n",
              "    <tr>\n",
              "      <td>0</td>\n",
              "      <td>0.874741</td>\n",
              "      <td>0.514782</td>\n",
              "      <td>0.818000</td>\n",
              "      <td>00:03</td>\n",
              "    </tr>\n",
              "  </tbody>\n",
              "</table>"
            ],
            "text/plain": [
              "<IPython.core.display.HTML object>"
            ]
          },
          "metadata": {
            "tags": []
          }
        },
        {
          "output_type": "display_data",
          "data": {
            "text/html": [
              "<table border=\"1\" class=\"dataframe\">\n",
              "  <thead>\n",
              "    <tr style=\"text-align: left;\">\n",
              "      <th>epoch</th>\n",
              "      <th>train_loss</th>\n",
              "      <th>valid_loss</th>\n",
              "      <th>accuracy</th>\n",
              "      <th>time</th>\n",
              "    </tr>\n",
              "  </thead>\n",
              "  <tbody>\n",
              "    <tr>\n",
              "      <td>0</td>\n",
              "      <td>0.623411</td>\n",
              "      <td>0.314566</td>\n",
              "      <td>0.890000</td>\n",
              "      <td>00:04</td>\n",
              "    </tr>\n",
              "  </tbody>\n",
              "</table>"
            ],
            "text/plain": [
              "<IPython.core.display.HTML object>"
            ]
          },
          "metadata": {
            "tags": []
          }
        },
        {
          "output_type": "display_data",
          "data": {
            "text/html": [
              "<table border=\"1\" class=\"dataframe\">\n",
              "  <thead>\n",
              "    <tr style=\"text-align: left;\">\n",
              "      <th>epoch</th>\n",
              "      <th>train_loss</th>\n",
              "      <th>valid_loss</th>\n",
              "      <th>accuracy</th>\n",
              "      <th>time</th>\n",
              "    </tr>\n",
              "  </thead>\n",
              "  <tbody>\n",
              "    <tr>\n",
              "      <td>0</td>\n",
              "      <td>0.458824</td>\n",
              "      <td>0.279786</td>\n",
              "      <td>0.904000</td>\n",
              "      <td>00:06</td>\n",
              "    </tr>\n",
              "  </tbody>\n",
              "</table>"
            ],
            "text/plain": [
              "<IPython.core.display.HTML object>"
            ]
          },
          "metadata": {
            "tags": []
          }
        },
        {
          "output_type": "display_data",
          "data": {
            "text/html": [
              "<table border=\"1\" class=\"dataframe\">\n",
              "  <thead>\n",
              "    <tr style=\"text-align: left;\">\n",
              "      <th>epoch</th>\n",
              "      <th>train_loss</th>\n",
              "      <th>valid_loss</th>\n",
              "      <th>accuracy</th>\n",
              "      <th>time</th>\n",
              "    </tr>\n",
              "  </thead>\n",
              "  <tbody>\n",
              "    <tr>\n",
              "      <td>0</td>\n",
              "      <td>0.376816</td>\n",
              "      <td>0.268887</td>\n",
              "      <td>0.908000</td>\n",
              "      <td>00:08</td>\n",
              "    </tr>\n",
              "    <tr>\n",
              "      <td>1</td>\n",
              "      <td>0.337634</td>\n",
              "      <td>0.246458</td>\n",
              "      <td>0.920000</td>\n",
              "      <td>00:08</td>\n",
              "    </tr>\n",
              "  </tbody>\n",
              "</table>"
            ],
            "text/plain": [
              "<IPython.core.display.HTML object>"
            ]
          },
          "metadata": {
            "tags": []
          }
        }
      ]
    },
    {
      "cell_type": "code",
      "metadata": {
        "id": "0MTgjnks-NIZ",
        "colab_type": "code",
        "colab": {}
      },
      "source": [
        "pred_fwd,lbl_fwd = learn.get_preds(ordered=True)\n",
        "acc_fwd = accuracy(pred_fwd, lbl_fwd)\n",
        "learn.save(path+'fwd_clas'+'_'+str(lm_epoch)+'_'+str(cls_epoch)+'_'+str(acc_fwd.item())[2:6])"
      ],
      "execution_count": 0,
      "outputs": []
    },
    {
      "cell_type": "code",
      "metadata": {
        "id": "0cxI3OnrFUMd",
        "colab_type": "code",
        "colab": {}
      },
      "source": [
        "# Bidirectional\n",
        "learn_bwd = language_model_learner(data_bwd, AWD_LSTM, pretrained=True)\n",
        "learn_bwd = learn_bwd.to_fp16(clip=0.1)\n",
        "learn_bwd.fit_one_cycle(1, 1e-2, moms=(0.8,0.7), wd=0.1)\n",
        "#unfreeze\n",
        "learn_bwd.unfreeze()\n",
        "#LM fine-tuning\n",
        "learn_bwd.fit_one_cycle(lm_epoch, 1e-3, moms=(0.8,0.7), wd=0.1)\n",
        "learn_bwd.save_encoder(path+'bwd_enc')\n",
        "# graual unfreezing\n",
        "learn_bwd = text_classifier_learner(data_clas_bwd, AWD_LSTM, drop_mult=0.5, pretrained=False)\n",
        "learn_bwd.load_encoder(path+'bwd_enc')\n",
        "lr = 0.01\n",
        "learn_bwd.fit_one_cycle(1, lr, moms=(0.8,0.7), wd=0.1)\n",
        "learn_bwd.freeze_to(-2)\n",
        "lr /= 2\n",
        "learn_bwd.fit_one_cycle(1, slice(lr/(2.6**4),lr), moms=(0.8,0.7), wd=0.1)\n",
        "learn_bwd.freeze_to(-3)\n",
        "lr /= 2\n",
        "learn_bwd.fit_one_cycle(1, slice(lr/(2.6**4),lr), moms=(0.8,0.7), wd=0.1)\n",
        "learn_bwd.unfreeze()\n",
        "lr /= 5\n",
        "learn_bwd.fit_one_cycle(cls_epoch, slice(lr/(2.6**4),lr), moms=(0.8,0.7), wd=0.1)\n",
        "pred_bwd,lbl_bwd = learn_bwd.get_preds(ordered=True)\n",
        "final_pred = (pred_fwd+pred_bwd)/2\n",
        "acc_bwd = accuracy(final_pred, lbl_fwd)\n",
        "learn_bwd.save(path+'bwd_clas'+'_'+str(lm_epoch)+'_'+str(cls_epoch)+'_'+str(acc_bwd.item())[2:6])"
      ],
      "execution_count": 0,
      "outputs": []
    },
    {
      "cell_type": "code",
      "metadata": {
        "id": "e5yF-VL1Mg1M",
        "colab_type": "code",
        "colab": {
          "base_uri": "https://localhost:8080/",
          "height": 55
        },
        "outputId": "3f0faa1b-1acd-4983-bee7-d0ee9107d97f"
      },
      "source": [
        "\"\"\"\n",
        "learn = text_classifier_learner(data_clas, AWD_LSTM, pretrained=False)\n",
        "learn.load(path+'fwd_clas')\n",
        "pred_fwd,lbl_fwd = learn.get_preds(ordered=True)\n",
        "accuracy(pred_fwd, lbl_fwd)\n",
        "#\n",
        "learn_bwd = text_classifier_learner(data_clas_bwd, AWD_LSTM, pretrained=False)\n",
        "learn_bwd.load(path+'bwd_clas')\n",
        "pred_bwd,lbl_bwd = learn_bwd.get_preds(ordered=True)\n",
        "final_pred = (pred_fwd+pred_bwd)/2\n",
        "accuracy(final_pred, lbl_fwd)\n",
        "\n",
        "\"\"\""
      ],
      "execution_count": 12,
      "outputs": [
        {
          "output_type": "execute_result",
          "data": {
            "text/plain": [
              "\"\\nlearn = text_classifier_learner(data_clas, AWD_LSTM, pretrained=False)\\nlearn.load(path+'fwd_clas')\\npred_fwd,lbl_fwd = learn.get_preds(ordered=True)\\naccuracy(pred_fwd, lbl_fwd)\\n#\\nlearn_bwd = text_classifier_learner(data_clas_bwd, AWD_LSTM, pretrained=False)\\nlearn_bwd.load(path+'bwd_clas')\\npred_bwd,lbl_bwd = learn_bwd.get_preds(ordered=True)\\nfinal_pred = (pred_fwd+pred_bwd)/2\\naccuracy(final_pred, lbl_fwd)\\n\\n\""
            ]
          },
          "metadata": {
            "tags": []
          },
          "execution_count": 12
        }
      ]
    },
    {
      "cell_type": "markdown",
      "metadata": {
        "id": "DKdLtDkBFvIB",
        "colab_type": "text"
      },
      "source": [
        ""
      ]
    }
  ]
}